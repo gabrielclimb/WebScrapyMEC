{
 "cells": [
  {
   "cell_type": "code",
   "execution_count": 1,
   "metadata": {
    "collapsed": false
   },
   "outputs": [],
   "source": [
    "import requests\n",
    "from bs4 import BeautifulSoup\n",
    "\n",
    "def isInt(s):\n",
    "    try: \n",
    "        int(s)\n",
    "        return True\n",
    "    except ValueError:\n",
    "        return False\n",
    "\n",
    "def checaStr(p,s):\n",
    "    try:\n",
    "        p.index(s)\n",
    "        return True\n",
    "    except ValueError:\n",
    "        return False\n",
    "        \n",
    "\n",
    "\n",
    "page_ex = requests.get(\"https://www.mec.ca/en/cat/climb\")\n",
    "soup = BeautifulSoup(page_ex.content, 'html.parser')\n",
    "#Links referentes a escalada\n",
    "if (page_ex.status_code) == 200:\n",
    "    linkExterno = []\n",
    "    i = 0\n",
    "    for link in soup.find_all('a'):\n",
    "        a = link.get('href')\n",
    "        b = a.split('/')\n",
    "        if len(b) > 4:\n",
    "            if b[4] == 'climbing-gear':\n",
    "                if (\"https://www.mec.ca\"+ a) not in linkExterno:\n",
    "                    linkExterno.append(\"https://www.mec.ca\"+ a)"
   ]
  },
  {
   "cell_type": "code",
   "execution_count": null,
   "metadata": {
    "collapsed": false,
    "scrolled": false
   },
   "outputs": [],
   "source": [
    "linkInterno = []\n",
    "for pagina in linkExterno:\n",
    "\tpage_int = requests.get(pagina)\n",
    "\tpage_int.status_code\n",
    "\t#Encontrando todas as instâncias de uma tag de uma vez\n",
    "\tsoup = BeautifulSoup(page_int.content, 'html.parser')\n",
    "\tfor link in soup.find_all('a'):\n",
    "\t        a = link.get('href')\n",
    "\t        b = a.split('/')\n",
    "\t        if len(b) > 4:\n",
    "\t            c = b[3]\n",
    "\t            d = b[4]\n",
    "\t            if len (c) > 1: #Checo se existe algo\n",
    "\t                #se a primeira posicao for um numero e nao tiver # eu adiciono ao vetor\n",
    "\t                if (isInt(c[0]) == True) and (checaStr(d,'#') == False): \n",
    "\t                    #Se o meu list linkInterno estiver vazio dou append\n",
    "\t                    if (\"https://www.mec.ca\"+ a) not in linkInterno:\n",
    "\t                        linkInterno.append(\"https://www.mec.ca\"+ a)"
   ]
  },
  {
   "cell_type": "code",
   "execution_count": null,
   "metadata": {
    "collapsed": false,
    "scrolled": true
   },
   "outputs": [],
   "source": [
    "name = []\n",
    "price = []\n",
    "infos = []\n",
    "\n",
    "\n",
    "for pagina in linkInterno:\n",
    "    if pagina != 'https://www.mec.ca/en/product/5027-227/MEC-E-Gift-Card':\n",
    "        page_prod = requests.get(pagina)\n",
    "        soup = BeautifulSoup(page_prod.content, 'html.parser')\n",
    "\n",
    "        #pego o nome\n",
    "        name.append(soup.title.string)\n",
    "        print(pagina)\n",
    "        # Pego preço\n",
    "        try:\n",
    "            price.append(soup.find(itemprop=\"price\").text)\n",
    "        except AttributeError:\n",
    "            print (\"Checar\")\n",
    "            price.append('Checar')\n",
    "            \n",
    "\n",
    "\n",
    "\n",
    "        #Tabela\n",
    "        tables = soup.findChildren('table')\n",
    "        #Pegando as infos da tabela de descrição\n",
    "        tables = soup.findChildren('table')\n",
    "        #pega a primeira tabela que encontrar\n",
    "        my_table = tables[0]\n",
    "        # Acha as childrens da tabela\n",
    "        rows = my_table.findChildren(['th', 'tr'])\n",
    "        #pegando as infos da tabela\n",
    "        infos_prod = []\n",
    "        for row in rows:\n",
    "            colunas = row.findChildren('td')\n",
    "            for coluna in colunas:\n",
    "                value = coluna.string\n",
    "                if str(value).strip() != 'None':\n",
    "                    infos_prod.append(str(value).strip())\n",
    "        infos.append(infos_prod)\n"
   ]
  },
  {
   "cell_type": "code",
   "execution_count": null,
   "metadata": {
    "collapsed": false
   },
   "outputs": [],
   "source": [
    "print(len(name))"
   ]
  },
  {
   "cell_type": "code",
   "execution_count": null,
   "metadata": {
    "collapsed": false
   },
   "outputs": [],
   "source": [
    "print(len(price))"
   ]
  },
  {
   "cell_type": "code",
   "execution_count": null,
   "metadata": {
    "collapsed": false
   },
   "outputs": [],
   "source": [
    "print(len(infos))"
   ]
  },
  {
   "cell_type": "code",
   "execution_count": null,
   "metadata": {
    "collapsed": true
   },
   "outputs": [],
   "source": [
    "import pandas as pd\n",
    "\n",
    "produtos = pd.DataFrame({\n",
    "        \"Name\": name,\n",
    "        \"Price\": price,\n",
    "        \"Informations\": infos\n",
    "        })"
   ]
  },
  {
   "cell_type": "code",
   "execution_count": null,
   "metadata": {
    "collapsed": false
   },
   "outputs": [],
   "source": [
    "writer = pd.ExcelWriter('pandas_simple.xlsx', engine='xlsxwriter')\n",
    "produtos.to_excel(writer, sheet_name='Sheet1')\n",
    "writer.save()\n"
   ]
  },
  {
   "cell_type": "code",
   "execution_count": null,
   "metadata": {
    "collapsed": true
   },
   "outputs": [],
   "source": []
  }
 ],
 "metadata": {
  "kernelspec": {
   "display_name": "Python 3",
   "language": "python",
   "name": "python3"
  },
  "language_info": {
   "codemirror_mode": {
    "name": "ipython",
    "version": 3
   },
   "file_extension": ".py",
   "mimetype": "text/x-python",
   "name": "python",
   "nbconvert_exporter": "python",
   "pygments_lexer": "ipython3",
   "version": "3.6.0"
  }
 },
 "nbformat": 4,
 "nbformat_minor": 2
}
