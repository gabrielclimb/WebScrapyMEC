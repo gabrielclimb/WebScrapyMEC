{
 "cells": [
  {
   "cell_type": "code",
   "execution_count": null,
   "metadata": {
    "collapsed": false
   },
   "outputs": [],
   "source": [
    "import requests\n",
    "from bs4 import BeautifulSoup\n",
    "import pandas as pd\n",
    "page_ex = requests.get(\"https://www.mec.ca/en/cat/climb\")"
   ]
  },
  {
   "cell_type": "code",
   "execution_count": null,
   "metadata": {
    "collapsed": false
   },
   "outputs": [],
   "source": [
    "page_ex.status_code\n",
    "soup = BeautifulSoup(page_ex.content, 'html.parser')"
   ]
  },
  {
   "cell_type": "code",
   "execution_count": null,
   "metadata": {
    "collapsed": false
   },
   "outputs": [],
   "source": [
    "#Links referentes a escalada\n",
    "if (page_ex.status_code) == 200:\n",
    "    linkExterno = []\n",
    "    for link in soup.find_all('a'):\n",
    "        a = link.get('href')\n",
    "        b = a.split('/')\n",
    "        if len(b) > 4:\n",
    "            if b[4] == 'climbing-gear':\n",
    "                if not len(linkExterno) > 0:\n",
    "                    linkExterno.append(\"https://www.mec.ca\"+ a)\n",
    "                # se nao checo se a posição que quero inserir não é igual a anterior, impedindo valores duplicados\n",
    "                elif (linkExterno[i] != (\"https://www.mec.ca\"+ a)):\n",
    "                    linkExterno.append(\"https://www.mec.ca\"+ a)\n",
    "                    i+=1\n"
   ]
  },
  {
   "cell_type": "code",
   "execution_count": 196,
   "metadata": {
    "collapsed": false
   },
   "outputs": [],
   "source": [
    "#teste para uma página/link\n",
    "page_int = requests.get(\"https://www.mec.ca/en/products/gear/climbing-gear/carabiners-and-draws/c/949\")"
   ]
  },
  {
   "cell_type": "code",
   "execution_count": 197,
   "metadata": {
    "collapsed": false
   },
   "outputs": [
    {
     "data": {
      "text/plain": [
       "200"
      ]
     },
     "execution_count": 197,
     "metadata": {},
     "output_type": "execute_result"
    }
   ],
   "source": [
    "page_int.status_code"
   ]
  },
  {
   "cell_type": "code",
   "execution_count": 198,
   "metadata": {
    "collapsed": false
   },
   "outputs": [],
   "source": [
    "#Encontrando todas as instâncias de uma tag de uma vez\n",
    "soup = BeautifulSoup(page_int.content, 'html.parser')"
   ]
  },
  {
   "cell_type": "code",
   "execution_count": 199,
   "metadata": {
    "collapsed": false
   },
   "outputs": [],
   "source": [
    "#Pega os links internos de cada pagina externa\n",
    "def isInt(s):\n",
    "    try: \n",
    "        int(s)\n",
    "        return True\n",
    "    except ValueError:\n",
    "        return False\n",
    "\n",
    "def checaStr(p,s):\n",
    "    try:\n",
    "        p.index(s)\n",
    "        return True\n",
    "    except ValueError:\n",
    "        return False\n",
    "        \n",
    "    \n",
    "linkInterno = []\n",
    "i = 0 \n",
    "for link in soup.find_all('a'):\n",
    "        a = link.get('href')\n",
    "        b = a.split('/')\n",
    "        if len(b) > 4:\n",
    "            c = b[3]\n",
    "            d = b[4]\n",
    "            if len (c) > 1: #Checo se existe algo\n",
    "                #se a primeira posicao for um numero e nao tiver # eu adiciono ao vetor\n",
    "                if (isInt(c[0]) == True) and (checaStr(d,'#') == False): \n",
    "                    #Coloquei a lógica dos if pois estava vindo links duplicados\n",
    "                    #Se o meu list linkInterno estiver vazio dou append\n",
    "                    if not len(linkInterno) > 0:\n",
    "                        linkInterno.append(\"https://www.mec.ca\"+ a)\n",
    "                    # se nao checo se a posição que quero inserir não é igual a anterior, impedindo valores duplicados\n",
    "                    elif (\"https://www.mec.ca\"+ a) not in linkInterno:\n",
    "                        linkInterno.append(\"https://www.mec.ca\"+ a)\n",
    "                        i+=1"
   ]
  },
  {
   "cell_type": "code",
   "execution_count": 200,
   "metadata": {
    "collapsed": false
   },
   "outputs": [
    {
     "data": {
      "text/plain": [
       "['https://www.mec.ca/en/product/5027-227/MEC-E-Gift-Card',\n",
       " 'https://www.mec.ca/en/product/5007-000/Positron-Screwgate-Biner',\n",
       " 'https://www.mec.ca/en/product/5052-290/Neutrino-Wire-Gate-Biner',\n",
       " 'https://www.mec.ca/en/product/5006-999/Rocklock-Screwgate-Biner',\n",
       " 'https://www.mec.ca/en/product/5045-746/Positron-Quickdraw',\n",
       " 'https://www.mec.ca/en/product/5043-589/FS-Mini-II-Carabiner',\n",
       " 'https://www.mec.ca/en/product/5016-306/HERA-Attache-Screw-Lock-Carabiner',\n",
       " 'https://www.mec.ca/en/product/5031-654/Spirit-Express-Quickdraw',\n",
       " 'https://www.mec.ca/en/product/5039-800/Slash-Set-Quickdraw',\n",
       " 'https://www.mec.ca/en/product/4008-647/Oval-Biner',\n",
       " 'https://www.mec.ca/en/product/5035-284/Djinn-Axess-Quickdraw',\n",
       " 'https://www.mec.ca/en/product/5024-564/Pure-Screwgate-Carabiner',\n",
       " 'https://www.mec.ca/en/product/5029-299/Magnetron-Rocklock-Carabiner',\n",
       " 'https://www.mec.ca/en/product/5024-297/Nitron-Screwgate-Biner',\n",
       " 'https://www.mec.ca/en/product/5024-013/Bravo-Locking-Biner',\n",
       " 'https://www.mec.ca/en/product/5045-747/Freewire-Quickdraw',\n",
       " 'https://www.mec.ca/en/product/5024-010/Element-Key-Lock-Belay-Biner',\n",
       " 'https://www.mec.ca/en/product/5022-527/Ange-S-Carabiner',\n",
       " 'https://www.mec.ca/en/product/5018-586/Zodiac-Locksafe-Locking-Carabiner',\n",
       " 'https://www.mec.ca/en/product/5055-505/Nano-22-Carabiner-Rack-Pack',\n",
       " 'https://www.mec.ca/en/product/5015-812/Revolver-Screwgate-Locking-Biner',\n",
       " 'https://www.mec.ca/en/product/5025-341/HMS-Strike-Screwgate-Biner',\n",
       " 'https://www.mec.ca/en/product/5024-287/Gridlock-Screwgate-Biner',\n",
       " 'https://www.mec.ca/en/product/5045-745/Oz-Runner-Set-Quickdraw',\n",
       " 'https://www.mec.ca/en/product/5045-751/Oz-Rackpack',\n",
       " 'https://www.mec.ca/en/product/1409-044/12mm-Steel-Locking-D-Biner',\n",
       " 'https://www.mec.ca/en/product/5045-744/Hoodwire-Quickdraw',\n",
       " 'https://www.mec.ca/en/product/5002-937/Positron-Straight-Gate-Anodized-Biner',\n",
       " 'https://www.mec.ca/en/product/5036-334/Pure-Slider-Biner',\n",
       " 'https://www.mec.ca/en/product/5024-561/Pure-Straight-Gate-Carabiner',\n",
       " 'https://www.mec.ca/en/product/5007-192/Revolver-Biner',\n",
       " 'https://www.mec.ca/en/product/5045-723/William-Screw-Lock-Biner',\n",
       " 'https://www.mec.ca/en/product/5018-587/Belaymaster-2-Screwlock-Biner',\n",
       " 'https://www.mec.ca/en/product/5027-778/Alpha-Trad-Quickdraw',\n",
       " 'https://www.mec.ca/en/product/5000-873/Oval-Wiregate-Biner',\n",
       " 'https://www.mec.ca/en/product/5052-792/Orbit-Wire-Express-KS-Quickdraw',\n",
       " 'https://www.mec.ca/en/product/5002-938/Positron-Bent-Gate-Anodized-Biner']"
      ]
     },
     "execution_count": 200,
     "metadata": {},
     "output_type": "execute_result"
    }
   ],
   "source": [
    "linkInterno"
   ]
  },
  {
   "cell_type": "code",
   "execution_count": 202,
   "metadata": {
    "collapsed": true
   },
   "outputs": [],
   "source": [
    "page_prod = requests.get(\"https://www.mec.ca/en/product/5045-746/Positron-Quickdraw\")"
   ]
  },
  {
   "cell_type": "code",
   "execution_count": 203,
   "metadata": {
    "collapsed": false
   },
   "outputs": [
    {
     "data": {
      "text/plain": [
       "200"
      ]
     },
     "execution_count": 203,
     "metadata": {},
     "output_type": "execute_result"
    }
   ],
   "source": [
    "page_prod.status_code"
   ]
  },
  {
   "cell_type": "code",
   "execution_count": 204,
   "metadata": {
    "collapsed": false
   },
   "outputs": [],
   "source": [
    "soup = BeautifulSoup(page_prod.content, 'html.parser')"
   ]
  },
  {
   "cell_type": "code",
   "execution_count": null,
   "metadata": {
    "collapsed": false
   },
   "outputs": [],
   "source": [
    "print(soup.prettify())"
   ]
  },
  {
   "cell_type": "code",
   "execution_count": 205,
   "metadata": {
    "collapsed": false
   },
   "outputs": [
    {
     "data": {
      "text/plain": [
       "'\\n\\t\\tBlack Diamond Positron Quickdraw'"
      ]
     },
     "execution_count": 205,
     "metadata": {},
     "output_type": "execute_result"
    }
   ],
   "source": [
    "#nome \n",
    "soup.title.string"
   ]
  },
  {
   "cell_type": "code",
   "execution_count": 218,
   "metadata": {
    "collapsed": false
   },
   "outputs": [
    {
     "name": "stdout",
     "output_type": "stream",
     "text": [
      "Checar\n"
     ]
    }
   ],
   "source": [
    "#Valor\n",
    "try:\n",
    "    soup.find(itemprop=\"price\").text\n",
    "except AttributeError:\n",
    "    print (\"Checar\")\n",
    "\n"
   ]
  },
  {
   "cell_type": "code",
   "execution_count": null,
   "metadata": {
    "collapsed": false
   },
   "outputs": [],
   "source": [
    " tables = soup.findChildren('table')\n",
    "tables"
   ]
  },
  {
   "cell_type": "code",
   "execution_count": null,
   "metadata": {
    "collapsed": false,
    "scrolled": false
   },
   "outputs": [],
   "source": [
    "#Pegando as infos da tabela de descrição\n",
    "tables = soup.findChildren('table')\n",
    "#pega a primeira tabela que encontrar\n",
    "my_table = tables[0]\n",
    "# Acha as childrens da tabela\n",
    "rows = my_table.findChildren(['th', 'tr'])"
   ]
  },
  {
   "cell_type": "code",
   "execution_count": null,
   "metadata": {
    "collapsed": false
   },
   "outputs": [],
   "source": [
    "#pegando as infos da tabela\n",
    "infos = []\n",
    "for row in rows:\n",
    "    colunas = row.findChildren('td')\n",
    "    for coluna in colunas:\n",
    "        value = coluna.string\n",
    "        if str(value).strip() != 'None':\n",
    "           infos.append(str(value).strip())"
   ]
  },
  {
   "cell_type": "code",
   "execution_count": null,
   "metadata": {
    "collapsed": false
   },
   "outputs": [],
   "source": [
    "# i = 0\n",
    "# for row in rows:\n",
    "#     linhas = row.findChildren('th')\n",
    "#     for linha in linhas:\n",
    "#         value = linha.string\n",
    "#         if str(value).strip() != 'None'and str(value).strip() != 'Ideal for':\n",
    "#             print (str(value).strip())\n",
    "#             print (infos[i])\n",
    "#             i += 1\n",
    "    "
   ]
  },
  {
   "cell_type": "code",
   "execution_count": null,
   "metadata": {
    "collapsed": true
   },
   "outputs": [],
   "source": []
  },
  {
   "cell_type": "code",
   "execution_count": null,
   "metadata": {
    "collapsed": true
   },
   "outputs": [],
   "source": []
  }
 ],
 "metadata": {
  "kernelspec": {
   "display_name": "Python 3",
   "language": "python",
   "name": "python3"
  },
  "language_info": {
   "codemirror_mode": {
    "name": "ipython",
    "version": 3
   },
   "file_extension": ".py",
   "mimetype": "text/x-python",
   "name": "python",
   "nbconvert_exporter": "python",
   "pygments_lexer": "ipython3",
   "version": "3.6.0"
  }
 },
 "nbformat": 4,
 "nbformat_minor": 2
}
